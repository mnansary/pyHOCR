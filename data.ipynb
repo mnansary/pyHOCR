{
 "cells": [
  {
   "cell_type": "code",
   "execution_count": 1,
   "metadata": {},
   "outputs": [],
   "source": [
    "from glob import glob\n",
    "import os \n",
    "import numpy as np\n",
    "import matplotlib.pyplot as plt\n",
    "%matplotlib inline\n",
    "from tqdm.notebook import tqdm\n",
    "import random\n",
    "def create_dir(base,ext):\n",
    "    '''\n",
    "        creates and external dir in base\n",
    "        args:\n",
    "            base   =    the main path\n",
    "            ext    =    the external path\n",
    "    '''\n",
    "    _path=os.path.join(base,ext)\n",
    "    if not os.path.exists(_path):\n",
    "        os.mkdir(_path)\n",
    "    return _path\n",
    "\n",
    "# dataset dir\n",
    "ds_path  =   create_dir(os.getcwd(),'OcrDTF')\n",
    "tf_train =   create_dir(ds_path,'Train')\n",
    "tf_eval  =   create_dir(ds_path,'Eval')\n",
    "tf_test  =   create_dir(ds_path,'Test')\n",
    "\n",
    "# image dir\n",
    "IDEN_START=172\n",
    "BasicFinalDatabase_path   =    os.path.join(os.getcwd(),'BasicFinalDatabase')\n",
    "train_path                =    os.path.join(BasicFinalDatabase_path,'Train')\n",
    "test_path                 =    os.path.join(BasicFinalDatabase_path,'Test')"
   ]
  },
  {
   "cell_type": "code",
   "execution_count": 2,
   "metadata": {},
   "outputs": [
    {
     "data": {
      "application/vnd.jupyter.widget-view+json": {
       "model_id": "6307222afab6440da3479ff2bb506a73",
       "version_major": 2,
       "version_minor": 0
      },
      "text/plain": [
       "HBox(children=(HTML(value=''), FloatProgress(value=0.0, max=12000.0), HTML(value='')))"
      ]
     },
     "metadata": {},
     "output_type": "display_data"
    },
    {
     "name": "stdout",
     "output_type": "stream",
     "text": [
      "\n"
     ]
    },
    {
     "data": {
      "application/vnd.jupyter.widget-view+json": {
       "model_id": "a95b6867e5e34d56b9248a0846c4bc33",
       "version_major": 2,
       "version_minor": 0
      },
      "text/plain": [
       "HBox(children=(HTML(value=''), FloatProgress(value=0.0, max=3000.0), HTML(value='')))"
      ]
     },
     "metadata": {},
     "output_type": "display_data"
    },
    {
     "name": "stdout",
     "output_type": "stream",
     "text": [
      "\n",
      "9600 2400 3000\n"
     ]
    }
   ],
   "source": [
    "train_img_paths  =  [img_path for img_path in tqdm(glob(os.path.join(train_path,'*/*.bmp')))]\n",
    "test_img_paths   =  [img_path for img_path in tqdm(glob(os.path.join(test_path,'*/*.bmp')))]\n",
    "\n",
    "nb_train=int(len(train_img_paths)*0.8)\n",
    "random.shuffle(train_img_paths)\n",
    "\n",
    "eval_img_paths  =  train_img_paths[nb_train:]\n",
    "train_img_paths =  train_img_paths[:nb_train]\n",
    "\n",
    "def get_label(img_path):\n",
    "    '''\n",
    "        get label from data path\n",
    "    '''\n",
    "    _base  =  os.path.dirname(img_path)\n",
    "    _label =  os.path.basename(_base)\n",
    "    _label =  int(_label) - IDEN_START\n",
    "    return _label\n",
    "\n",
    "print(len(train_img_paths),len(eval_img_paths),len(test_img_paths))"
   ]
  },
  {
   "cell_type": "code",
   "execution_count": 3,
   "metadata": {},
   "outputs": [
    {
     "name": "stdout",
     "output_type": "stream",
     "text": [
      "2.3.1\n"
     ]
    }
   ],
   "source": [
    "import tensorflow as tf\n",
    "from PIL import Image\n",
    "\n",
    "print(tf.__version__)\n",
    "\n",
    "DATA_NUM=5120\n",
    "IMG_DIM =128\n",
    "\n",
    "def _bytes_feature(value):\n",
    "    return tf.train.Feature(bytes_list=tf.train.BytesList(value=[value]))\n",
    "def _int64_feature(value):\n",
    "      return tf.train.Feature(int64_list=tf.train.Int64List(value=[value]))\n",
    "def _float_feature(value):\n",
    "      return tf.train.Feature(float_list=tf.train.FloatList(value=[value]))\n",
    "\n",
    "\n",
    "def to_tfrecord(img_paths,tf_mode,r_num):\n",
    "    '''\n",
    "      Creates tfrecords from Provided Image Paths\n",
    "    '''\n",
    "    tfrecord_name='{}.tfrecord'.format(r_num)\n",
    "    tfrecord_path=os.path.join(tf_mode,tfrecord_name) \n",
    "    \n",
    "    with tf.io.TFRecordWriter(tfrecord_path) as writer:    \n",
    "        \n",
    "        for img_path in tqdm(img_paths):\n",
    "            \n",
    "            #label\n",
    "            label=get_label(img_path)\n",
    "            \n",
    "            # image data\n",
    "            img = Image.open(img_path).convert('RGB')\n",
    "            img = img.resize((IMG_DIM,IMG_DIM))\n",
    "            img.save( 'test.png', 'png')\n",
    "            \n",
    "            with(open('test.png','rb')) as fid:\n",
    "                image_png_bytes=fid.read()\n",
    "            \n",
    "            # feature desc\n",
    "            data ={ 'image':_bytes_feature(image_png_bytes),\n",
    "                    'label':_int64_feature(label)\n",
    "            }\n",
    "            \n",
    "            features=tf.train.Features(feature=data)\n",
    "            example= tf.train.Example(features=features)\n",
    "            serialized=example.SerializeToString()\n",
    "            writer.write(serialized)  \n",
    "            \n",
    "def create_df(img_paths,tf_mode):\n",
    "    '''\n",
    "        tf record wrapper\n",
    "    '''\n",
    "    for idx in range(0,len(img_paths),DATA_NUM):\n",
    "        \n",
    "        _paths=img_paths[idx:idx+DATA_NUM]\n",
    "        \n",
    "        to_tfrecord(_paths,tf_mode,idx//DATA_NUM)"
   ]
  },
  {
   "cell_type": "code",
   "execution_count": 4,
   "metadata": {},
   "outputs": [
    {
     "data": {
      "application/vnd.jupyter.widget-view+json": {
       "model_id": "94296cf456804c06a5a80ff004dbfc16",
       "version_major": 2,
       "version_minor": 0
      },
      "text/plain": [
       "HBox(children=(HTML(value=''), FloatProgress(value=0.0, max=5120.0), HTML(value='')))"
      ]
     },
     "metadata": {},
     "output_type": "display_data"
    },
    {
     "name": "stdout",
     "output_type": "stream",
     "text": [
      "\n"
     ]
    },
    {
     "data": {
      "application/vnd.jupyter.widget-view+json": {
       "model_id": "2da04b07e1c4422aa8fc685553b0bb5a",
       "version_major": 2,
       "version_minor": 0
      },
      "text/plain": [
       "HBox(children=(HTML(value=''), FloatProgress(value=0.0, max=4480.0), HTML(value='')))"
      ]
     },
     "metadata": {},
     "output_type": "display_data"
    },
    {
     "name": "stdout",
     "output_type": "stream",
     "text": [
      "\n"
     ]
    },
    {
     "data": {
      "application/vnd.jupyter.widget-view+json": {
       "model_id": "a5d7ffd2a36647648e3a6d5f5a0e40e2",
       "version_major": 2,
       "version_minor": 0
      },
      "text/plain": [
       "HBox(children=(HTML(value=''), FloatProgress(value=0.0, max=2400.0), HTML(value='')))"
      ]
     },
     "metadata": {},
     "output_type": "display_data"
    },
    {
     "name": "stdout",
     "output_type": "stream",
     "text": [
      "\n"
     ]
    },
    {
     "data": {
      "application/vnd.jupyter.widget-view+json": {
       "model_id": "57ae7267e8864d1997619f3db8653253",
       "version_major": 2,
       "version_minor": 0
      },
      "text/plain": [
       "HBox(children=(HTML(value=''), FloatProgress(value=0.0, max=3000.0), HTML(value='')))"
      ]
     },
     "metadata": {},
     "output_type": "display_data"
    },
    {
     "name": "stdout",
     "output_type": "stream",
     "text": [
      "\n"
     ]
    }
   ],
   "source": [
    "create_df(train_img_paths,tf_train)\n",
    "create_df(eval_img_paths,tf_eval)\n",
    "create_df(test_img_paths,tf_test)"
   ]
  },
  {
   "cell_type": "code",
   "execution_count": 5,
   "metadata": {},
   "outputs": [],
   "source": [
    "os.remove('test.png')"
   ]
  }
 ],
 "metadata": {
  "kernelspec": {
   "display_name": "ocrenv",
   "language": "python",
   "name": "ocrenv"
  },
  "language_info": {
   "codemirror_mode": {
    "name": "ipython",
    "version": 3
   },
   "file_extension": ".py",
   "mimetype": "text/x-python",
   "name": "python",
   "nbconvert_exporter": "python",
   "pygments_lexer": "ipython3",
   "version": "3.6.9"
  }
 },
 "nbformat": 4,
 "nbformat_minor": 4
}
